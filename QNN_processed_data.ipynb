{
  "nbformat": 4,
  "nbformat_minor": 0,
  "metadata": {
    "colab": {
      "provenance": [],
      "authorship_tag": "ABX9TyOz5W1Ke8TBkgEFwW3RhRc2",
      "include_colab_link": true
    },
    "kernelspec": {
      "name": "python3",
      "display_name": "Python 3"
    },
    "language_info": {
      "name": "python"
    }
  },
  "cells": [
    {
      "cell_type": "markdown",
      "metadata": {
        "id": "view-in-github",
        "colab_type": "text"
      },
      "source": [
        "<a href=\"https://colab.research.google.com/github/peculab/AI4JUBO/blob/main/QNN_processed_data.ipynb\" target=\"_parent\"><img src=\"https://colab.research.google.com/assets/colab-badge.svg\" alt=\"Open In Colab\"/></a>"
      ]
    },
    {
      "cell_type": "code",
      "execution_count": 3,
      "metadata": {
        "colab": {
          "base_uri": "https://localhost:8080/",
          "height": 88
        },
        "id": "HYzqFnuLC0aU",
        "outputId": "db5fccfa-16bc-45cc-f062-c4c64169da8a"
      },
      "outputs": [
        {
          "output_type": "stream",
          "name": "stdout",
          "text": [
            "📥 載入訓練資料（內部）...\n",
            "📥 載入測試資料（外部）...\n",
            "🧩 根據特徵進行個別補值...\n",
            "✅ 補值完成，未經標準化，已匯出 CSV！\n"
          ]
        },
        {
          "output_type": "display_data",
          "data": {
            "text/plain": [
              "<IPython.core.display.Javascript object>"
            ],
            "application/javascript": [
              "\n",
              "    async function download(id, filename, size) {\n",
              "      if (!google.colab.kernel.accessAllowed) {\n",
              "        return;\n",
              "      }\n",
              "      const div = document.createElement('div');\n",
              "      const label = document.createElement('label');\n",
              "      label.textContent = `Downloading \"${filename}\": `;\n",
              "      div.appendChild(label);\n",
              "      const progress = document.createElement('progress');\n",
              "      progress.max = size;\n",
              "      div.appendChild(progress);\n",
              "      document.body.appendChild(div);\n",
              "\n",
              "      const buffers = [];\n",
              "      let downloaded = 0;\n",
              "\n",
              "      const channel = await google.colab.kernel.comms.open(id);\n",
              "      // Send a message to notify the kernel that we're ready.\n",
              "      channel.send({})\n",
              "\n",
              "      for await (const message of channel.messages) {\n",
              "        // Send a message to notify the kernel that we're ready.\n",
              "        channel.send({})\n",
              "        if (message.buffers) {\n",
              "          for (const buffer of message.buffers) {\n",
              "            buffers.push(buffer);\n",
              "            downloaded += buffer.byteLength;\n",
              "            progress.value = downloaded;\n",
              "          }\n",
              "        }\n",
              "      }\n",
              "      const blob = new Blob(buffers, {type: 'application/binary'});\n",
              "      const a = document.createElement('a');\n",
              "      a.href = window.URL.createObjectURL(blob);\n",
              "      a.download = filename;\n",
              "      div.appendChild(a);\n",
              "      a.click();\n",
              "      div.remove();\n",
              "    }\n",
              "  "
            ]
          },
          "metadata": {}
        },
        {
          "output_type": "display_data",
          "data": {
            "text/plain": [
              "<IPython.core.display.Javascript object>"
            ],
            "application/javascript": [
              "download(\"download_245da683-ce01-4d02-b39e-62908f9d1a17\", \"processed_internal.csv\", 761213)"
            ]
          },
          "metadata": {}
        },
        {
          "output_type": "display_data",
          "data": {
            "text/plain": [
              "<IPython.core.display.Javascript object>"
            ],
            "application/javascript": [
              "\n",
              "    async function download(id, filename, size) {\n",
              "      if (!google.colab.kernel.accessAllowed) {\n",
              "        return;\n",
              "      }\n",
              "      const div = document.createElement('div');\n",
              "      const label = document.createElement('label');\n",
              "      label.textContent = `Downloading \"${filename}\": `;\n",
              "      div.appendChild(label);\n",
              "      const progress = document.createElement('progress');\n",
              "      progress.max = size;\n",
              "      div.appendChild(progress);\n",
              "      document.body.appendChild(div);\n",
              "\n",
              "      const buffers = [];\n",
              "      let downloaded = 0;\n",
              "\n",
              "      const channel = await google.colab.kernel.comms.open(id);\n",
              "      // Send a message to notify the kernel that we're ready.\n",
              "      channel.send({})\n",
              "\n",
              "      for await (const message of channel.messages) {\n",
              "        // Send a message to notify the kernel that we're ready.\n",
              "        channel.send({})\n",
              "        if (message.buffers) {\n",
              "          for (const buffer of message.buffers) {\n",
              "            buffers.push(buffer);\n",
              "            downloaded += buffer.byteLength;\n",
              "            progress.value = downloaded;\n",
              "          }\n",
              "        }\n",
              "      }\n",
              "      const blob = new Blob(buffers, {type: 'application/binary'});\n",
              "      const a = document.createElement('a');\n",
              "      a.href = window.URL.createObjectURL(blob);\n",
              "      a.download = filename;\n",
              "      div.appendChild(a);\n",
              "      a.click();\n",
              "      div.remove();\n",
              "    }\n",
              "  "
            ]
          },
          "metadata": {}
        },
        {
          "output_type": "display_data",
          "data": {
            "text/plain": [
              "<IPython.core.display.Javascript object>"
            ],
            "application/javascript": [
              "download(\"download_8d64c270-bbe4-4b59-ab7d-46772ab07362\", \"processed_external.csv\", 12693)"
            ]
          },
          "metadata": {}
        }
      ],
      "source": [
        "# ⬇️ 安裝必要套件（Colab 一次執行）\n",
        "!pip install --upgrade -q gspread gspread_dataframe\n",
        "\n",
        "import pandas as pd\n",
        "import numpy as np\n",
        "import gspread\n",
        "from gspread_dataframe import get_as_dataframe\n",
        "from google.colab import auth\n",
        "from google.auth import default\n",
        "\n",
        "# === 🔐 授權 Google API（Colab 內建支援）===\n",
        "auth.authenticate_user()\n",
        "creds, _ = default()\n",
        "gc = gspread.authorize(creds)\n",
        "\n",
        "# === 🔧 參數設定 ===\n",
        "INTERNAL_URL = 'https://docs.google.com/spreadsheets/d/1p-7J-6lnpsi2i7a9z6ORktCZKXQGOw616GLVP7ynn7k/edit?usp=sharing'\n",
        "EXTERNAL_URL = 'https://docs.google.com/spreadsheets/d/1Hoguf7PGhJoy0bGzIxf3P7yMHWHuKvdwyd4grxvRHkA/edit?usp=sharing'\n",
        "EXTERNAL_SHEET_NAME = '測試資料表'\n",
        "\n",
        "TOP_FEATURES = ['預估年齡', 'ADL_總分_max', 'GDS_總分_max', '六個月內住院次數', '性別_is_male']\n",
        "LABEL_COLUMN = '死亡標記'\n",
        "\n",
        "# === 📥 資料載入函數 ===\n",
        "def load_sheet_df(url, worksheet_name=None):\n",
        "    sh = gc.open_by_url(url)\n",
        "    ws = sh.worksheet(worksheet_name) if worksheet_name else sh.get_worksheet(0)\n",
        "    df = get_as_dataframe(ws, evaluate_formulas=True, na_values=['', 'NA'])\n",
        "    df = df.dropna(how='all')  # 去除全為空的列\n",
        "    df = df.apply(lambda col: pd.to_numeric(col.astype(str).str.replace(',', '').str.strip(), errors='coerce'))\n",
        "    return df\n",
        "\n",
        "# === 📊 執行主流程 ===\n",
        "print(\"📥 載入訓練資料（內部）...\")\n",
        "df_internal = load_sheet_df(INTERNAL_URL)\n",
        "\n",
        "print(\"📥 載入測試資料（外部）...\")\n",
        "df_external = load_sheet_df(EXTERNAL_URL, worksheet_name=EXTERNAL_SHEET_NAME)\n",
        "\n",
        "X_internal = df_internal[TOP_FEATURES].copy()\n",
        "y_internal = df_internal[LABEL_COLUMN]\n",
        "X_external = df_external[TOP_FEATURES].copy()\n",
        "y_external = df_external[LABEL_COLUMN]\n",
        "\n",
        "# === 個別補值規則 ===\n",
        "print(\"🧩 根據特徵進行個別補值...\")\n",
        "filling_rules = {\n",
        "    '預估年齡': X_internal['預估年齡'].mean(),\n",
        "    'ADL_總分_max': X_internal['ADL_總分_max'].median(),\n",
        "    'GDS_總分_max': 0,\n",
        "    '六個月內住院次數': 0,\n",
        "    '性別_is_male': 0\n",
        "}\n",
        "for col, val in filling_rules.items():\n",
        "    X_internal[col] = X_internal[col].fillna(val)\n",
        "    X_external[col] = X_external[col].fillna(val)\n",
        "\n",
        "# === 📤 儲存補值後的資料為 CSV 檔 ===\n",
        "df_internal_out = X_internal.copy()\n",
        "df_internal_out['label'] = y_internal.values\n",
        "\n",
        "df_external_out = X_external.copy()\n",
        "df_external_out['label'] = y_external.values\n",
        "\n",
        "df_internal_out.to_csv('processed_internal.csv', index=False)\n",
        "df_external_out.to_csv('processed_external.csv', index=False)\n",
        "\n",
        "print(\"✅ 補值完成，未經標準化，已匯出 CSV！\")\n",
        "\n",
        "# === 🔽 提供下載連結 ===\n",
        "from google.colab import files\n",
        "files.download('processed_internal.csv')\n",
        "files.download('processed_external.csv')"
      ]
    }
  ]
}